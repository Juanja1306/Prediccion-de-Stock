{
 "cells": [
  {
   "cell_type": "markdown",
   "metadata": {},
   "source": [
    "# Fase 2: Desarrollo y Entrenamiento del Modelo\n",
    "\n",
    "**Objetivo:**  \n",
    "- Diseñar, entrenar y evaluar una RNN (LSTM o GRU) para predecir la demanda futura (`target_sale_next`) en base a las secuencias de 14 lags ya generadas.  \n",
    "- Dividir datos en entrenamiento / validación / (opcional) test, probar variantes de arquitectura (LSTM vs GRU, número de capas, unidades, dropout, etc.) y comparar RMSE o MAE en validación.\n",
    "\n",
    "**Estructura del notebook:**  \n",
    "1. Cargar librerías y datos procesados (`df_secuencias`)  \n",
    "2. Crear conjuntos de entrenamiento / validación / test  \n",
    "3. Definir “data generators” o arrays de entrada 3D + etiquetas  \n",
    "4. Construir y entrenar un modelo base (p. ej. LSTM(64) → Dense(32)→Dense(1))  \n",
    "5. Graficar evolución de loss / val_loss y mae / val_mae  \n",
    "6. Probar variante GRU(64) y comparar métricas  \n",
    "7. Hacer un pequeño loop de hiperparámetros (número de unidades, dropout, optimizador)  \n",
    "8. Guardar modelo final (`rnn_demand_model.h5`)  \n",
    "9. Breve análisis de resultados: mejor arquitectura, valor final de RMSE/MAE en validación"
   ]
  },
  {
   "cell_type": "code",
   "execution_count": 3,
   "metadata": {},
   "outputs": [],
   "source": [
    "## 1. Importar librerías y cargar datos procesados\n",
    "\n",
    "\n",
    "import os\n",
    "import numpy as np\n",
    "import pandas as pd\n",
    "import tensorflow as tf\n",
    "from tensorflow.keras.models import Sequential, load_model\n",
    "from tensorflow.keras.layers import LSTM, GRU, Dense, Dropout\n",
    "from tensorflow.keras.optimizers import Adam, RMSprop\n",
    "from tensorflow.keras.callbacks import EarlyStopping, ModelCheckpoint\n",
    "import matplotlib.pyplot as plt"
   ]
  },
  {
   "cell_type": "code",
   "execution_count": 4,
   "metadata": {},
   "outputs": [
    {
     "name": "stdout",
     "output_type": "stream",
     "text": [
      "Dimensiones totales de df_secuencias: (4487025, 242)\n"
     ]
    },
    {
     "data": {
      "text/html": [
       "<div>\n",
       "<style scoped>\n",
       "    .dataframe tbody tr th:only-of-type {\n",
       "        vertical-align: middle;\n",
       "    }\n",
       "\n",
       "    .dataframe tbody tr th {\n",
       "        vertical-align: top;\n",
       "    }\n",
       "\n",
       "    .dataframe thead th {\n",
       "        text-align: right;\n",
       "    }\n",
       "</style>\n",
       "<table border=\"1\" class=\"dataframe\">\n",
       "  <thead>\n",
       "    <tr style=\"text-align: right;\">\n",
       "      <th></th>\n",
       "      <th>product_id</th>\n",
       "      <th>fecha_final_ventana</th>\n",
       "      <th>target_sale_next</th>\n",
       "      <th>* sale_t-1</th>\n",
       "      <th>* sale_t-2</th>\n",
       "      <th>* sale_t-3</th>\n",
       "      <th>* sale_t-4</th>\n",
       "      <th>* sale_t-5</th>\n",
       "      <th>* sale_t-6</th>\n",
       "      <th>* sale_t-7</th>\n",
       "      <th>...</th>\n",
       "      <th>cat2_OTRO_t-6</th>\n",
       "      <th>cat2_OTRO_t-7</th>\n",
       "      <th>cat2_OTRO_t-8</th>\n",
       "      <th>cat2_OTRO_t-9</th>\n",
       "      <th>cat2_OTRO_t-10</th>\n",
       "      <th>cat2_OTRO_t-11</th>\n",
       "      <th>cat2_OTRO_t-12</th>\n",
       "      <th>cat2_OTRO_t-13</th>\n",
       "      <th>cat2_OTRO_t-14</th>\n",
       "      <th>target_sale_next.1</th>\n",
       "    </tr>\n",
       "  </thead>\n",
       "  <tbody>\n",
       "    <tr>\n",
       "      <th>0</th>\n",
       "      <td>0</td>\n",
       "      <td>2024-03-29</td>\n",
       "      <td>0.1</td>\n",
       "      <td>2.2</td>\n",
       "      <td>1.1</td>\n",
       "      <td>0.2</td>\n",
       "      <td>0.3</td>\n",
       "      <td>0.4</td>\n",
       "      <td>1.2</td>\n",
       "      <td>1.3</td>\n",
       "      <td>...</td>\n",
       "      <td>True</td>\n",
       "      <td>True</td>\n",
       "      <td>True</td>\n",
       "      <td>True</td>\n",
       "      <td>True</td>\n",
       "      <td>True</td>\n",
       "      <td>True</td>\n",
       "      <td>True</td>\n",
       "      <td>True</td>\n",
       "      <td>0.1</td>\n",
       "    </tr>\n",
       "    <tr>\n",
       "      <th>1</th>\n",
       "      <td>0</td>\n",
       "      <td>2024-03-29</td>\n",
       "      <td>0.1</td>\n",
       "      <td>1.0</td>\n",
       "      <td>2.2</td>\n",
       "      <td>1.1</td>\n",
       "      <td>0.2</td>\n",
       "      <td>0.3</td>\n",
       "      <td>0.4</td>\n",
       "      <td>1.2</td>\n",
       "      <td>...</td>\n",
       "      <td>True</td>\n",
       "      <td>True</td>\n",
       "      <td>True</td>\n",
       "      <td>True</td>\n",
       "      <td>True</td>\n",
       "      <td>True</td>\n",
       "      <td>True</td>\n",
       "      <td>True</td>\n",
       "      <td>True</td>\n",
       "      <td>0.1</td>\n",
       "    </tr>\n",
       "  </tbody>\n",
       "</table>\n",
       "<p>2 rows × 242 columns</p>\n",
       "</div>"
      ],
      "text/plain": [
       "   product_id fecha_final_ventana  target_sale_next  * sale_t-1  * sale_t-2  \\\n",
       "0           0          2024-03-29               0.1         2.2         1.1   \n",
       "1           0          2024-03-29               0.1         1.0         2.2   \n",
       "\n",
       "   * sale_t-3  * sale_t-4  * sale_t-5  * sale_t-6  * sale_t-7  ...  \\\n",
       "0         0.2         0.3         0.4         1.2         1.3  ...   \n",
       "1         1.1         0.2         0.3         0.4         1.2  ...   \n",
       "\n",
       "   cat2_OTRO_t-6  cat2_OTRO_t-7  cat2_OTRO_t-8  cat2_OTRO_t-9  cat2_OTRO_t-10  \\\n",
       "0           True           True           True           True            True   \n",
       "1           True           True           True           True            True   \n",
       "\n",
       "   cat2_OTRO_t-11  cat2_OTRO_t-12  cat2_OTRO_t-13  cat2_OTRO_t-14  \\\n",
       "0            True            True            True            True   \n",
       "1            True            True            True            True   \n",
       "\n",
       "   target_sale_next.1  \n",
       "0                 0.1  \n",
       "1                 0.1  \n",
       "\n",
       "[2 rows x 242 columns]"
      ]
     },
     "execution_count": 4,
     "metadata": {},
     "output_type": "execute_result"
    }
   ],
   "source": [
    "# 1.1 – Ajusta la ruta a donde tengas guardado \"DataFinal.csv\" (resultado de Fase 1 y Fase B)\n",
    "#      Este CSV debe contener columnas: ['product_id','fecha_final_ventana','target_sale_next', \n",
    "#      y todos los lag_columns: '* sale_t-1' ... 'día_de_la_semana_t-14', etc.]\n",
    "DATA_PATH = \"DataFinal.csv\"  # <— cambia aquí si tu archivo está en otra carpeta\n",
    "\n",
    "# 1.2 – Cargar DataFrame con todos los lags ya sin nulos\n",
    "df = pd.read_csv(DATA_PATH, parse_dates=[\"fecha_final_ventana\"])\n",
    "\n",
    "# 1.3 – Revisar dimensiones y tipos\n",
    "print(\"Dimensiones totales de df_secuencias:\", df.shape)\n",
    "df.head(2)"
   ]
  },
  {
   "cell_type": "code",
   "execution_count": 5,
   "metadata": {},
   "outputs": [
    {
     "name": "stdout",
     "output_type": "stream",
     "text": [
      "Conjuntos -> Train: 3,140,917 filas  |  Val: 673,053 filas  |  Test: 673,055 filas\n"
     ]
    }
   ],
   "source": [
    "# 2.1 – Ordenar por fecha para simular roll-forward temporal\n",
    "df = df.sort_values(\"fecha_final_ventana\").reset_index(drop=True)\n",
    "\n",
    "# 2.2 – Definir proporciones (ejemplo 70% train, 15% val, 15% test)\n",
    "n_total = len(df)\n",
    "n_train = int(n_total * 0.70)\n",
    "n_val   = int(n_total * 0.15)\n",
    "# restará n_test = n_total - n_train - n_val\n",
    "\n",
    "# 2.3 – Separar DataFrames\n",
    "df_train = df.iloc[:n_train].copy()\n",
    "df_val   = df.iloc[n_train : n_train + n_val].copy()\n",
    "df_test  = df.iloc[n_train + n_val : ].copy()\n",
    "\n",
    "print(f\"Conjuntos -> Train: {len(df_train):,} filas  |  Val: {len(df_val):,} filas  |  Test: {len(df_test):,} filas\")\n"
   ]
  },
  {
   "cell_type": "code",
   "execution_count": 6,
   "metadata": {},
   "outputs": [
    {
     "name": "stdout",
     "output_type": "stream",
     "text": [
      "Forma X_train: (3140917, 14, 17) | y_train: (3140917,)\n",
      "Forma X_val: (673053, 14, 17) | y_val: (673053,)\n",
      "Forma X_test: (673055, 14, 17) | y_test: (673055,)\n"
     ]
    }
   ],
   "source": [
    "# 3.1 – Lista de todas las columnas de lag (t-1 … t-14) en el orden correcto:\n",
    "#       Imagina que ya tienes en tu DataFinal.csv algo como:\n",
    "#       ['* sale_t-1', '* sale_t-2', …, '* sale_t-14',\n",
    "#        'día_de_la_semana_t-1', …, 'día_de_la_semana_t-14',\n",
    "#        '* mes_t-1', …, '* mes_t-14',\n",
    "#        '* es_fin_de_semana_t-1', …, '* es_fin_de_semana_t-14',\n",
    "#        '* ratio_sale_stock_t-1', …, '* ratio_sale_stock_t-14',\n",
    "#        'cat1_16_t-1', …, 'cat1_OTRO_t-14',\n",
    "#        'cat2_25_t-1', …, 'cat2_OTRO_t-14']\n",
    "#      y la etiqueta 'target_sale_next'.\n",
    "\n",
    "# (A) Obtén la lista completa de lag_columns automáticamente\n",
    "lag_columns = [c for c in df.columns if \"_t-\" in c and c != \"target_sale_next\"]\n",
    "\n",
    "# Para asegurarnos de que están ordenadas de t-1 a t-14 de cada grupo,\n",
    "# podemos filtrar en orden de aparición del CSV. Si necesitas orden específico,\n",
    "# ordénalas manualmente en la lista según tu naming.\n",
    "\n",
    "# (B) Construir X e y para cada split\n",
    "def build_X_y(sub_df):\n",
    "    X = sub_df[lag_columns].values  # forma: (n_muestras, n_features_total)\n",
    "    y = sub_df[\"target_sale_next\"].values  # (n_muestras,)\n",
    "    # Ahora hay que reestructurar X a 3D: (n_muestras, 14, n_features_por_lag)\n",
    "    #   n_features_por_lag = total de columnas _t-1 / 14\n",
    "    n_total_feats = X.shape[1]\n",
    "    n_timesteps = 14\n",
    "    if n_total_feats % n_timesteps != 0:\n",
    "        raise ValueError(\"El número total de features no es múltiplo de 14.\")\n",
    "    n_feats = n_total_feats // n_timesteps\n",
    "    X_reshaped = X.reshape((-1, n_timesteps, n_feats))\n",
    "    return X_reshaped, y\n",
    "\n",
    "X_train, y_train = build_X_y(df_train)\n",
    "X_val,   y_val   = build_X_y(df_val)\n",
    "X_test,  y_test  = build_X_y(df_test)\n",
    "\n",
    "print(\"Forma X_train:\", X_train.shape, \"| y_train:\", y_train.shape)\n",
    "print(\"Forma X_val:\",   X_val.shape,   \"| y_val:\",   y_val.shape)\n",
    "print(\"Forma X_test:\",  X_test.shape,  \"| y_test:\",  y_test.shape)\n"
   ]
  },
  {
   "cell_type": "code",
   "execution_count": 7,
   "metadata": {},
   "outputs": [
    {
     "name": "stderr",
     "output_type": "stream",
     "text": [
      "c:\\Users\\Juanja Malo\\Desktop\\Práctica RNN Predicción Demanda\\.venv2\\Lib\\site-packages\\keras\\src\\layers\\rnn\\rnn.py:199: UserWarning: Do not pass an `input_shape`/`input_dim` argument to a layer. When using Sequential models, prefer using an `Input(shape)` object as the first layer in the model instead.\n",
      "  super().__init__(**kwargs)\n"
     ]
    },
    {
     "data": {
      "text/html": [
       "<pre style=\"white-space:pre;overflow-x:auto;line-height:normal;font-family:Menlo,'DejaVu Sans Mono',consolas,'Courier New',monospace\"><span style=\"font-weight: bold\">Model: \"sequential\"</span>\n",
       "</pre>\n"
      ],
      "text/plain": [
       "\u001b[1mModel: \"sequential\"\u001b[0m\n"
      ]
     },
     "metadata": {},
     "output_type": "display_data"
    },
    {
     "data": {
      "text/html": [
       "<pre style=\"white-space:pre;overflow-x:auto;line-height:normal;font-family:Menlo,'DejaVu Sans Mono',consolas,'Courier New',monospace\">┏━━━━━━━━━━━━━━━━━━━━━━━━━━━━━━━━━┳━━━━━━━━━━━━━━━━━━━━━━━━┳━━━━━━━━━━━━━━━┓\n",
       "┃<span style=\"font-weight: bold\"> Layer (type)                    </span>┃<span style=\"font-weight: bold\"> Output Shape           </span>┃<span style=\"font-weight: bold\">       Param # </span>┃\n",
       "┡━━━━━━━━━━━━━━━━━━━━━━━━━━━━━━━━━╇━━━━━━━━━━━━━━━━━━━━━━━━╇━━━━━━━━━━━━━━━┩\n",
       "│ lstm (<span style=\"color: #0087ff; text-decoration-color: #0087ff\">LSTM</span>)                     │ (<span style=\"color: #00d7ff; text-decoration-color: #00d7ff\">None</span>, <span style=\"color: #00af00; text-decoration-color: #00af00\">64</span>)             │        <span style=\"color: #00af00; text-decoration-color: #00af00\">20,992</span> │\n",
       "├─────────────────────────────────┼────────────────────────┼───────────────┤\n",
       "│ dropout (<span style=\"color: #0087ff; text-decoration-color: #0087ff\">Dropout</span>)               │ (<span style=\"color: #00d7ff; text-decoration-color: #00d7ff\">None</span>, <span style=\"color: #00af00; text-decoration-color: #00af00\">64</span>)             │             <span style=\"color: #00af00; text-decoration-color: #00af00\">0</span> │\n",
       "├─────────────────────────────────┼────────────────────────┼───────────────┤\n",
       "│ dense (<span style=\"color: #0087ff; text-decoration-color: #0087ff\">Dense</span>)                   │ (<span style=\"color: #00d7ff; text-decoration-color: #00d7ff\">None</span>, <span style=\"color: #00af00; text-decoration-color: #00af00\">32</span>)             │         <span style=\"color: #00af00; text-decoration-color: #00af00\">2,080</span> │\n",
       "├─────────────────────────────────┼────────────────────────┼───────────────┤\n",
       "│ dense_1 (<span style=\"color: #0087ff; text-decoration-color: #0087ff\">Dense</span>)                 │ (<span style=\"color: #00d7ff; text-decoration-color: #00d7ff\">None</span>, <span style=\"color: #00af00; text-decoration-color: #00af00\">1</span>)              │            <span style=\"color: #00af00; text-decoration-color: #00af00\">33</span> │\n",
       "└─────────────────────────────────┴────────────────────────┴───────────────┘\n",
       "</pre>\n"
      ],
      "text/plain": [
       "┏━━━━━━━━━━━━━━━━━━━━━━━━━━━━━━━━━┳━━━━━━━━━━━━━━━━━━━━━━━━┳━━━━━━━━━━━━━━━┓\n",
       "┃\u001b[1m \u001b[0m\u001b[1mLayer (type)                   \u001b[0m\u001b[1m \u001b[0m┃\u001b[1m \u001b[0m\u001b[1mOutput Shape          \u001b[0m\u001b[1m \u001b[0m┃\u001b[1m \u001b[0m\u001b[1m      Param #\u001b[0m\u001b[1m \u001b[0m┃\n",
       "┡━━━━━━━━━━━━━━━━━━━━━━━━━━━━━━━━━╇━━━━━━━━━━━━━━━━━━━━━━━━╇━━━━━━━━━━━━━━━┩\n",
       "│ lstm (\u001b[38;5;33mLSTM\u001b[0m)                     │ (\u001b[38;5;45mNone\u001b[0m, \u001b[38;5;34m64\u001b[0m)             │        \u001b[38;5;34m20,992\u001b[0m │\n",
       "├─────────────────────────────────┼────────────────────────┼───────────────┤\n",
       "│ dropout (\u001b[38;5;33mDropout\u001b[0m)               │ (\u001b[38;5;45mNone\u001b[0m, \u001b[38;5;34m64\u001b[0m)             │             \u001b[38;5;34m0\u001b[0m │\n",
       "├─────────────────────────────────┼────────────────────────┼───────────────┤\n",
       "│ dense (\u001b[38;5;33mDense\u001b[0m)                   │ (\u001b[38;5;45mNone\u001b[0m, \u001b[38;5;34m32\u001b[0m)             │         \u001b[38;5;34m2,080\u001b[0m │\n",
       "├─────────────────────────────────┼────────────────────────┼───────────────┤\n",
       "│ dense_1 (\u001b[38;5;33mDense\u001b[0m)                 │ (\u001b[38;5;45mNone\u001b[0m, \u001b[38;5;34m1\u001b[0m)              │            \u001b[38;5;34m33\u001b[0m │\n",
       "└─────────────────────────────────┴────────────────────────┴───────────────┘\n"
      ]
     },
     "metadata": {},
     "output_type": "display_data"
    },
    {
     "data": {
      "text/html": [
       "<pre style=\"white-space:pre;overflow-x:auto;line-height:normal;font-family:Menlo,'DejaVu Sans Mono',consolas,'Courier New',monospace\"><span style=\"font-weight: bold\"> Total params: </span><span style=\"color: #00af00; text-decoration-color: #00af00\">23,105</span> (90.25 KB)\n",
       "</pre>\n"
      ],
      "text/plain": [
       "\u001b[1m Total params: \u001b[0m\u001b[38;5;34m23,105\u001b[0m (90.25 KB)\n"
      ]
     },
     "metadata": {},
     "output_type": "display_data"
    },
    {
     "data": {
      "text/html": [
       "<pre style=\"white-space:pre;overflow-x:auto;line-height:normal;font-family:Menlo,'DejaVu Sans Mono',consolas,'Courier New',monospace\"><span style=\"font-weight: bold\"> Trainable params: </span><span style=\"color: #00af00; text-decoration-color: #00af00\">23,105</span> (90.25 KB)\n",
       "</pre>\n"
      ],
      "text/plain": [
       "\u001b[1m Trainable params: \u001b[0m\u001b[38;5;34m23,105\u001b[0m (90.25 KB)\n"
      ]
     },
     "metadata": {},
     "output_type": "display_data"
    },
    {
     "data": {
      "text/html": [
       "<pre style=\"white-space:pre;overflow-x:auto;line-height:normal;font-family:Menlo,'DejaVu Sans Mono',consolas,'Courier New',monospace\"><span style=\"font-weight: bold\"> Non-trainable params: </span><span style=\"color: #00af00; text-decoration-color: #00af00\">0</span> (0.00 B)\n",
       "</pre>\n"
      ],
      "text/plain": [
       "\u001b[1m Non-trainable params: \u001b[0m\u001b[38;5;34m0\u001b[0m (0.00 B)\n"
      ]
     },
     "metadata": {},
     "output_type": "display_data"
    }
   ],
   "source": [
    "# 4.1 – Definir función para construir un modelo LSTM o GRU con hiperparámetros variables\n",
    "def create_rnn_model(rnn_type=\"LSTM\", \n",
    "                     n_units=64, \n",
    "                     dropout_rate=0.0, \n",
    "                     learning_rate=0.001, \n",
    "                     n_dense=32):\n",
    "    \"\"\"\n",
    "    rnn_type: \"LSTM\" o \"GRU\"\n",
    "    n_units: número de unidades en la capa recurrente\n",
    "    dropout_rate: si >0, aplica Dropout después de la capa recurrente\n",
    "    learning_rate: tasa de aprendizaje para el optimizador Adam\n",
    "    n_dense: unidades de la capa densa intermedia\n",
    "    \"\"\"\n",
    "    model = Sequential()\n",
    "    if rnn_type == \"LSTM\":\n",
    "        model.add(LSTM(units=n_units, return_sequences=False, input_shape=(14, X_train.shape[2])))\n",
    "    elif rnn_type == \"GRU\":\n",
    "        model.add(GRU(units=n_units, return_sequences=False, input_shape=(14, X_train.shape[2])))\n",
    "    else:\n",
    "        raise ValueError(\"rnn_type debe ser 'LSTM' o 'GRU'\")\n",
    "\n",
    "    if dropout_rate > 0:\n",
    "        model.add(Dropout(dropout_rate))\n",
    "\n",
    "    # Capa densa intermedia\n",
    "    model.add(Dense(n_dense, activation=\"relu\"))\n",
    "    # Capa de salida (regresión)\n",
    "    model.add(Dense(1, activation=\"linear\"))\n",
    "\n",
    "    # Compilar con MSE y métrica MAE\n",
    "    optimizer = Adam(learning_rate=learning_rate)\n",
    "    model.compile(loss=\"mse\", optimizer=optimizer, metrics=[tf.keras.metrics.MeanAbsoluteError()])\n",
    "    return model\n",
    "\n",
    "# 4.2 – Crear modelo base LSTM\n",
    "model_base = create_rnn_model(rnn_type=\"LSTM\", n_units=64, dropout_rate=0.2, learning_rate=0.001, n_dense=32)\n",
    "model_base.summary()\n"
   ]
  },
  {
   "cell_type": "code",
   "execution_count": 9,
   "metadata": {},
   "outputs": [
    {
     "name": "stdout",
     "output_type": "stream",
     "text": [
      "dtype X_train: float32 shape: (3140917, 14, 17)\n",
      "dtype y_train: float32 shape: (3140917,)\n",
      "dtype X_val: float32 shape: (673053, 14, 17)\n",
      "dtype y_val: float32 shape: (673053,)\n"
     ]
    }
   ],
   "source": [
    "# 3. Preparar X e y (convertir a arrays 3D)\n",
    "def build_X_y(sub_df):\n",
    "    # 1) Extraemos las columnas de lag\n",
    "    X_df = sub_df[lag_columns]\n",
    "    y_df = sub_df[\"target_sale_next\"]\n",
    "    \n",
    "    # 2) Asegurarnos de que todas las columnas de X sean numéricas\n",
    "    #    (convierte cadenas o categoricas a float; si hay errores, se detectan aquí)\n",
    "    X_df = X_df.apply(pd.to_numeric, errors=\"raise\")\n",
    "    y_df = pd.to_numeric(y_df, errors=\"raise\")\n",
    "    \n",
    "    # 3) Convertir a numpy y castearlo a float32\n",
    "    X = X_df.values.astype(np.float32)   # shape (n_muestras, n_feats_total)\n",
    "    y = y_df.values.astype(np.float32)   # shape (n_muestras,)\n",
    "    \n",
    "    # 4) Reshape a 3D: (n_muestras, 14, n_feats_por_lag)\n",
    "    n_total_feats = X.shape[1]\n",
    "    n_timesteps = 14\n",
    "    if n_total_feats % n_timesteps != 0:\n",
    "        raise ValueError(\"El número total de features no es múltiplo de 14.\")\n",
    "    n_feats = n_total_feats // n_timesteps\n",
    "    X_reshaped = X.reshape((-1, n_timesteps, n_feats))\n",
    "    return X_reshaped, y\n",
    "\n",
    "# Reconstruimos los conjuntos X/Y\n",
    "X_train, y_train = build_X_y(df_train)\n",
    "X_val,   y_val   = build_X_y(df_val)\n",
    "X_test,  y_test  = build_X_y(df_test)\n",
    "\n",
    "# Verificamos los dtypes\n",
    "print(\"dtype X_train:\", X_train.dtype, \"shape:\", X_train.shape)\n",
    "print(\"dtype y_train:\", y_train.dtype, \"shape:\", y_train.shape)\n",
    "print(\"dtype X_val:\",   X_val.dtype,   \"shape:\", X_val.shape)\n",
    "print(\"dtype y_val:\",   y_val.dtype,   \"shape:\", y_val.shape)\n"
   ]
  },
  {
   "cell_type": "code",
   "execution_count": 10,
   "metadata": {},
   "outputs": [
    {
     "name": "stdout",
     "output_type": "stream",
     "text": [
      "Epoch 1/50\n",
      "\u001b[1m12267/12270\u001b[0m \u001b[32m━━━━━━━━━━━━━━━━━━━\u001b[0m\u001b[37m━\u001b[0m \u001b[1m0s\u001b[0m 19ms/step - loss: 0.5129 - mean_absolute_error: 0.4121\n",
      "Epoch 1: val_loss improved from inf to 0.48237, saving model to checkpoints/best_lstm.h5\n"
     ]
    },
    {
     "name": "stderr",
     "output_type": "stream",
     "text": [
      "WARNING:absl:You are saving your model as an HDF5 file via `model.save()` or `keras.saving.save_model(model)`. This file format is considered legacy. We recommend using instead the native Keras format, e.g. `model.save('my_model.keras')` or `keras.saving.save_model(model, 'my_model.keras')`. \n"
     ]
    },
    {
     "name": "stdout",
     "output_type": "stream",
     "text": [
      "\u001b[1m12270/12270\u001b[0m \u001b[32m━━━━━━━━━━━━━━━━━━━━\u001b[0m\u001b[37m\u001b[0m \u001b[1m255s\u001b[0m 21ms/step - loss: 0.5129 - mean_absolute_error: 0.4121 - val_loss: 0.4824 - val_mean_absolute_error: 0.3961\n",
      "Epoch 2/50\n",
      "\u001b[1m12268/12270\u001b[0m \u001b[32m━━━━━━━━━━━━━━━━━━━\u001b[0m\u001b[37m━\u001b[0m \u001b[1m0s\u001b[0m 15ms/step - loss: 0.4156 - mean_absolute_error: 0.3806\n",
      "Epoch 2: val_loss did not improve from 0.48237\n",
      "\u001b[1m12270/12270\u001b[0m \u001b[32m━━━━━━━━━━━━━━━━━━━━\u001b[0m\u001b[37m\u001b[0m \u001b[1m205s\u001b[0m 17ms/step - loss: 0.4155 - mean_absolute_error: 0.3806 - val_loss: 0.5275 - val_mean_absolute_error: 0.3957\n",
      "Epoch 3/50\n",
      "\u001b[1m12267/12270\u001b[0m \u001b[32m━━━━━━━━━━━━━━━━━━━\u001b[0m\u001b[37m━\u001b[0m \u001b[1m0s\u001b[0m 16ms/step - loss: 0.4075 - mean_absolute_error: 0.3765\n",
      "Epoch 3: val_loss improved from 0.48237 to 0.48157, saving model to checkpoints/best_lstm.h5\n"
     ]
    },
    {
     "name": "stderr",
     "output_type": "stream",
     "text": [
      "WARNING:absl:You are saving your model as an HDF5 file via `model.save()` or `keras.saving.save_model(model)`. This file format is considered legacy. We recommend using instead the native Keras format, e.g. `model.save('my_model.keras')` or `keras.saving.save_model(model, 'my_model.keras')`. \n"
     ]
    },
    {
     "name": "stdout",
     "output_type": "stream",
     "text": [
      "\u001b[1m12270/12270\u001b[0m \u001b[32m━━━━━━━━━━━━━━━━━━━━\u001b[0m\u001b[37m\u001b[0m \u001b[1m212s\u001b[0m 17ms/step - loss: 0.4075 - mean_absolute_error: 0.3765 - val_loss: 0.4816 - val_mean_absolute_error: 0.3934\n",
      "Epoch 4/50\n",
      "\u001b[1m12270/12270\u001b[0m \u001b[32m━━━━━━━━━━━━━━━━━━━━\u001b[0m\u001b[37m\u001b[0m \u001b[1m0s\u001b[0m 15ms/step - loss: 0.4013 - mean_absolute_error: 0.3751\n",
      "Epoch 4: val_loss improved from 0.48157 to 0.47799, saving model to checkpoints/best_lstm.h5\n"
     ]
    },
    {
     "name": "stderr",
     "output_type": "stream",
     "text": [
      "WARNING:absl:You are saving your model as an HDF5 file via `model.save()` or `keras.saving.save_model(model)`. This file format is considered legacy. We recommend using instead the native Keras format, e.g. `model.save('my_model.keras')` or `keras.saving.save_model(model, 'my_model.keras')`. \n"
     ]
    },
    {
     "name": "stdout",
     "output_type": "stream",
     "text": [
      "\u001b[1m12270/12270\u001b[0m \u001b[32m━━━━━━━━━━━━━━━━━━━━\u001b[0m\u001b[37m\u001b[0m \u001b[1m207s\u001b[0m 17ms/step - loss: 0.4013 - mean_absolute_error: 0.3751 - val_loss: 0.4780 - val_mean_absolute_error: 0.4075\n",
      "Epoch 5/50\n",
      "\u001b[1m12268/12270\u001b[0m \u001b[32m━━━━━━━━━━━━━━━━━━━\u001b[0m\u001b[37m━\u001b[0m \u001b[1m0s\u001b[0m 15ms/step - loss: 0.3997 - mean_absolute_error: 0.3740\n",
      "Epoch 5: val_loss did not improve from 0.47799\n",
      "\u001b[1m12270/12270\u001b[0m \u001b[32m━━━━━━━━━━━━━━━━━━━━\u001b[0m\u001b[37m\u001b[0m \u001b[1m198s\u001b[0m 16ms/step - loss: 0.3997 - mean_absolute_error: 0.3740 - val_loss: 0.4847 - val_mean_absolute_error: 0.3924\n",
      "Epoch 6/50\n",
      "\u001b[1m12269/12270\u001b[0m \u001b[32m━━━━━━━━━━━━━━━━━━━\u001b[0m\u001b[37m━\u001b[0m \u001b[1m0s\u001b[0m 15ms/step - loss: 0.3951 - mean_absolute_error: 0.3729\n",
      "Epoch 6: val_loss improved from 0.47799 to 0.46276, saving model to checkpoints/best_lstm.h5\n"
     ]
    },
    {
     "name": "stderr",
     "output_type": "stream",
     "text": [
      "WARNING:absl:You are saving your model as an HDF5 file via `model.save()` or `keras.saving.save_model(model)`. This file format is considered legacy. We recommend using instead the native Keras format, e.g. `model.save('my_model.keras')` or `keras.saving.save_model(model, 'my_model.keras')`. \n"
     ]
    },
    {
     "name": "stdout",
     "output_type": "stream",
     "text": [
      "\u001b[1m12270/12270\u001b[0m \u001b[32m━━━━━━━━━━━━━━━━━━━━\u001b[0m\u001b[37m\u001b[0m \u001b[1m208s\u001b[0m 17ms/step - loss: 0.3951 - mean_absolute_error: 0.3729 - val_loss: 0.4628 - val_mean_absolute_error: 0.3918\n",
      "Epoch 7/50\n",
      "\u001b[1m12268/12270\u001b[0m \u001b[32m━━━━━━━━━━━━━━━━━━━\u001b[0m\u001b[37m━\u001b[0m \u001b[1m0s\u001b[0m 15ms/step - loss: 0.3959 - mean_absolute_error: 0.3731\n",
      "Epoch 7: val_loss improved from 0.46276 to 0.46157, saving model to checkpoints/best_lstm.h5\n"
     ]
    },
    {
     "name": "stderr",
     "output_type": "stream",
     "text": [
      "WARNING:absl:You are saving your model as an HDF5 file via `model.save()` or `keras.saving.save_model(model)`. This file format is considered legacy. We recommend using instead the native Keras format, e.g. `model.save('my_model.keras')` or `keras.saving.save_model(model, 'my_model.keras')`. \n"
     ]
    },
    {
     "name": "stdout",
     "output_type": "stream",
     "text": [
      "\u001b[1m12270/12270\u001b[0m \u001b[32m━━━━━━━━━━━━━━━━━━━━\u001b[0m\u001b[37m\u001b[0m \u001b[1m202s\u001b[0m 16ms/step - loss: 0.3959 - mean_absolute_error: 0.3731 - val_loss: 0.4616 - val_mean_absolute_error: 0.3931\n",
      "Epoch 8/50\n",
      "\u001b[1m12269/12270\u001b[0m \u001b[32m━━━━━━━━━━━━━━━━━━━\u001b[0m\u001b[37m━\u001b[0m \u001b[1m0s\u001b[0m 16ms/step - loss: 0.3947 - mean_absolute_error: 0.3725\n",
      "Epoch 8: val_loss did not improve from 0.46157\n",
      "\u001b[1m12270/12270\u001b[0m \u001b[32m━━━━━━━━━━━━━━━━━━━━\u001b[0m\u001b[37m\u001b[0m \u001b[1m214s\u001b[0m 17ms/step - loss: 0.3947 - mean_absolute_error: 0.3725 - val_loss: 0.4686 - val_mean_absolute_error: 0.3898\n",
      "Epoch 9/50\n",
      "\u001b[1m12269/12270\u001b[0m \u001b[32m━━━━━━━━━━━━━━━━━━━\u001b[0m\u001b[37m━\u001b[0m \u001b[1m0s\u001b[0m 15ms/step - loss: 0.3911 - mean_absolute_error: 0.3720\n",
      "Epoch 9: val_loss did not improve from 0.46157\n",
      "\u001b[1m12270/12270\u001b[0m \u001b[32m━━━━━━━━━━━━━━━━━━━━\u001b[0m\u001b[37m\u001b[0m \u001b[1m206s\u001b[0m 17ms/step - loss: 0.3911 - mean_absolute_error: 0.3720 - val_loss: 0.4660 - val_mean_absolute_error: 0.3917\n",
      "Epoch 10/50\n",
      "\u001b[1m12268/12270\u001b[0m \u001b[32m━━━━━━━━━━━━━━━━━━━\u001b[0m\u001b[37m━\u001b[0m \u001b[1m0s\u001b[0m 15ms/step - loss: 0.3924 - mean_absolute_error: 0.3721\n",
      "Epoch 10: val_loss did not improve from 0.46157\n",
      "\u001b[1m12270/12270\u001b[0m \u001b[32m━━━━━━━━━━━━━━━━━━━━\u001b[0m\u001b[37m\u001b[0m \u001b[1m205s\u001b[0m 17ms/step - loss: 0.3924 - mean_absolute_error: 0.3721 - val_loss: 0.4848 - val_mean_absolute_error: 0.3940\n",
      "Epoch 11/50\n",
      "\u001b[1m12270/12270\u001b[0m \u001b[32m━━━━━━━━━━━━━━━━━━━━\u001b[0m\u001b[37m\u001b[0m \u001b[1m0s\u001b[0m 15ms/step - loss: 0.3877 - mean_absolute_error: 0.3714\n",
      "Epoch 11: val_loss did not improve from 0.46157\n",
      "\u001b[1m12270/12270\u001b[0m \u001b[32m━━━━━━━━━━━━━━━━━━━━\u001b[0m\u001b[37m\u001b[0m \u001b[1m206s\u001b[0m 17ms/step - loss: 0.3877 - mean_absolute_error: 0.3714 - val_loss: 0.5009 - val_mean_absolute_error: 0.3984\n",
      "Epoch 12/50\n",
      "\u001b[1m12269/12270\u001b[0m \u001b[32m━━━━━━━━━━━━━━━━━━━\u001b[0m\u001b[37m━\u001b[0m \u001b[1m0s\u001b[0m 15ms/step - loss: 0.3908 - mean_absolute_error: 0.3717\n",
      "Epoch 12: val_loss did not improve from 0.46157\n",
      "\u001b[1m12270/12270\u001b[0m \u001b[32m━━━━━━━━━━━━━━━━━━━━\u001b[0m\u001b[37m\u001b[0m \u001b[1m205s\u001b[0m 17ms/step - loss: 0.3908 - mean_absolute_error: 0.3717 - val_loss: 0.4635 - val_mean_absolute_error: 0.3959\n",
      "Epoch 12: early stopping\n",
      "Restoring model weights from the end of the best epoch: 7.\n"
     ]
    }
   ],
   "source": [
    "# 5.1 – Callbacks: EarlyStopping + ModelCheckpoint\n",
    "checkpoint_path = \"checkpoints/best_lstm.h5\"\n",
    "os.makedirs(os.path.dirname(checkpoint_path), exist_ok=True)\n",
    "\n",
    "es_callback = EarlyStopping(\n",
    "    monitor=\"val_loss\", \n",
    "    patience=5, \n",
    "    verbose=1, \n",
    "    restore_best_weights=True\n",
    ")\n",
    "mc_callback = ModelCheckpoint(\n",
    "    filepath=checkpoint_path,\n",
    "    monitor=\"val_loss\",\n",
    "    save_best_only=True,\n",
    "    verbose=1\n",
    ")\n",
    "\n",
    "# 5.2 – Entrenar\n",
    "history_base = model_base.fit(\n",
    "    X_train, y_train,\n",
    "    epochs=50,\n",
    "    batch_size=256,\n",
    "    validation_data=(X_val, y_val),\n",
    "    callbacks=[es_callback, mc_callback]\n",
    ")\n"
   ]
  },
  {
   "cell_type": "code",
   "execution_count": 11,
   "metadata": {},
   "outputs": [
    {
     "data": {
      "image/png": "[encoded data removed]",
      "text/plain": [
       "<Figure size 1200x400 with 2 Axes>"
      ]
     },
     "metadata": {},
     "output_type": "display_data"
    }
   ],
   "source": [
    "# 6.1 – Función de utilidad para graficar\n",
    "def plot_history(hist, title_suffix=\"\"):\n",
    "    # Pérdidas\n",
    "    plt.figure(figsize=(12,4))\n",
    "    plt.subplot(1,2,1)\n",
    "    plt.plot(hist.history[\"loss\"], label=\"train_loss\")\n",
    "    plt.plot(hist.history[\"val_loss\"], label=\"val_loss\")\n",
    "    plt.title(f\"Loss (MSE){title_suffix}\")\n",
    "    plt.xlabel(\"Epoch\")\n",
    "    plt.ylabel(\"MSE\")\n",
    "    plt.legend()\n",
    "\n",
    "    # MAE\n",
    "    plt.subplot(1,2,2)\n",
    "    plt.plot(hist.history[\"mean_absolute_error\"], label=\"train_mae\")\n",
    "    plt.plot(hist.history[\"val_mean_absolute_error\"], label=\"val_mae\")\n",
    "    plt.title(f\"MAE{title_suffix}\")\n",
    "    plt.xlabel(\"Epoch\")\n",
    "    plt.ylabel(\"MAE\")\n",
    "    plt.legend()\n",
    "\n",
    "    plt.tight_layout()\n",
    "    plt.show()\n",
    "\n",
    "# 6.2 – Graficar para el modelo base\n",
    "plot_history(history_base, title_suffix=\" (LSTM 64, dropout 0.2)\")\n"
   ]
  },
  {
   "cell_type": "code",
   "execution_count": 12,
   "metadata": {},
   "outputs": [
    {
     "name": "stderr",
     "output_type": "stream",
     "text": [
      "WARNING:absl:You are saving your model as an HDF5 file via `model.save()` or `keras.saving.save_model(model)`. This file format is considered legacy. We recommend using instead the native Keras format, e.g. `model.save('my_model.keras')` or `keras.saving.save_model(model, 'my_model.keras')`. \n"
     ]
    }
   ],
   "source": [
    "# Guadar modelo\n",
    "model_base.save(\"checkpoints/best_lstm.h5\")\n"
   ]
  },
  {
   "cell_type": "code",
   "execution_count": 14,
   "metadata": {},
   "outputs": [
    {
     "name": "stderr",
     "output_type": "stream",
     "text": [
      "c:\\Users\\Juanja Malo\\Desktop\\Práctica RNN Predicción Demanda\\.venv2\\Lib\\site-packages\\keras\\src\\layers\\rnn\\rnn.py:199: UserWarning: Do not pass an `input_shape`/`input_dim` argument to a layer. When using Sequential models, prefer using an `Input(shape)` object as the first layer in the model instead.\n",
      "  super().__init__(**kwargs)\n"
     ]
    },
    {
     "data": {
      "text/html": [
       "<pre style=\"white-space:pre;overflow-x:auto;line-height:normal;font-family:Menlo,'DejaVu Sans Mono',consolas,'Courier New',monospace\"><span style=\"font-weight: bold\">Model: \"sequential_1\"</span>\n",
       "</pre>\n"
      ],
      "text/plain": [
       "\u001b[1mModel: \"sequential_1\"\u001b[0m\n"
      ]
     },
     "metadata": {},
     "output_type": "display_data"
    },
    {
     "data": {
      "text/html": [
       "<pre style=\"white-space:pre;overflow-x:auto;line-height:normal;font-family:Menlo,'DejaVu Sans Mono',consolas,'Courier New',monospace\">┏━━━━━━━━━━━━━━━━━━━━━━━━━━━━━━━━━┳━━━━━━━━━━━━━━━━━━━━━━━━┳━━━━━━━━━━━━━━━┓\n",
       "┃<span style=\"font-weight: bold\"> Layer (type)                    </span>┃<span style=\"font-weight: bold\"> Output Shape           </span>┃<span style=\"font-weight: bold\">       Param # </span>┃\n",
       "┡━━━━━━━━━━━━━━━━━━━━━━━━━━━━━━━━━╇━━━━━━━━━━━━━━━━━━━━━━━━╇━━━━━━━━━━━━━━━┩\n",
       "│ gru (<span style=\"color: #0087ff; text-decoration-color: #0087ff\">GRU</span>)                       │ (<span style=\"color: #00d7ff; text-decoration-color: #00d7ff\">None</span>, <span style=\"color: #00af00; text-decoration-color: #00af00\">64</span>)             │        <span style=\"color: #00af00; text-decoration-color: #00af00\">15,936</span> │\n",
       "├─────────────────────────────────┼────────────────────────┼───────────────┤\n",
       "│ dropout_1 (<span style=\"color: #0087ff; text-decoration-color: #0087ff\">Dropout</span>)             │ (<span style=\"color: #00d7ff; text-decoration-color: #00d7ff\">None</span>, <span style=\"color: #00af00; text-decoration-color: #00af00\">64</span>)             │             <span style=\"color: #00af00; text-decoration-color: #00af00\">0</span> │\n",
       "├─────────────────────────────────┼────────────────────────┼───────────────┤\n",
       "│ dense_2 (<span style=\"color: #0087ff; text-decoration-color: #0087ff\">Dense</span>)                 │ (<span style=\"color: #00d7ff; text-decoration-color: #00d7ff\">None</span>, <span style=\"color: #00af00; text-decoration-color: #00af00\">32</span>)             │         <span style=\"color: #00af00; text-decoration-color: #00af00\">2,080</span> │\n",
       "├─────────────────────────────────┼────────────────────────┼───────────────┤\n",
       "│ dense_3 (<span style=\"color: #0087ff; text-decoration-color: #0087ff\">Dense</span>)                 │ (<span style=\"color: #00d7ff; text-decoration-color: #00d7ff\">None</span>, <span style=\"color: #00af00; text-decoration-color: #00af00\">1</span>)              │            <span style=\"color: #00af00; text-decoration-color: #00af00\">33</span> │\n",
       "└─────────────────────────────────┴────────────────────────┴───────────────┘\n",
       "</pre>\n"
      ],
      "text/plain": [
       "┏━━━━━━━━━━━━━━━━━━━━━━━━━━━━━━━━━┳━━━━━━━━━━━━━━━━━━━━━━━━┳━━━━━━━━━━━━━━━┓\n",
       "┃\u001b[1m \u001b[0m\u001b[1mLayer (type)                   \u001b[0m\u001b[1m \u001b[0m┃\u001b[1m \u001b[0m\u001b[1mOutput Shape          \u001b[0m\u001b[1m \u001b[0m┃\u001b[1m \u001b[0m\u001b[1m      Param #\u001b[0m\u001b[1m \u001b[0m┃\n",
       "┡━━━━━━━━━━━━━━━━━━━━━━━━━━━━━━━━━╇━━━━━━━━━━━━━━━━━━━━━━━━╇━━━━━━━━━━━━━━━┩\n",
       "│ gru (\u001b[38;5;33mGRU\u001b[0m)                       │ (\u001b[38;5;45mNone\u001b[0m, \u001b[38;5;34m64\u001b[0m)             │        \u001b[38;5;34m15,936\u001b[0m │\n",
       "├─────────────────────────────────┼────────────────────────┼───────────────┤\n",
       "│ dropout_1 (\u001b[38;5;33mDropout\u001b[0m)             │ (\u001b[38;5;45mNone\u001b[0m, \u001b[38;5;34m64\u001b[0m)             │             \u001b[38;5;34m0\u001b[0m │\n",
       "├─────────────────────────────────┼────────────────────────┼───────────────┤\n",
       "│ dense_2 (\u001b[38;5;33mDense\u001b[0m)                 │ (\u001b[38;5;45mNone\u001b[0m, \u001b[38;5;34m32\u001b[0m)             │         \u001b[38;5;34m2,080\u001b[0m │\n",
       "├─────────────────────────────────┼────────────────────────┼───────────────┤\n",
       "│ dense_3 (\u001b[38;5;33mDense\u001b[0m)                 │ (\u001b[38;5;45mNone\u001b[0m, \u001b[38;5;34m1\u001b[0m)              │            \u001b[38;5;34m33\u001b[0m │\n",
       "└─────────────────────────────────┴────────────────────────┴───────────────┘\n"
      ]
     },
     "metadata": {},
     "output_type": "display_data"
    },
    {
     "data": {
      "text/html": [
       "<pre style=\"white-space:pre;overflow-x:auto;line-height:normal;font-family:Menlo,'DejaVu Sans Mono',consolas,'Courier New',monospace\"><span style=\"font-weight: bold\"> Total params: </span><span style=\"color: #00af00; text-decoration-color: #00af00\">18,049</span> (70.50 KB)\n",
       "</pre>\n"
      ],
      "text/plain": [
       "\u001b[1m Total params: \u001b[0m\u001b[38;5;34m18,049\u001b[0m (70.50 KB)\n"
      ]
     },
     "metadata": {},
     "output_type": "display_data"
    },
    {
     "data": {
      "text/html": [
       "<pre style=\"white-space:pre;overflow-x:auto;line-height:normal;font-family:Menlo,'DejaVu Sans Mono',consolas,'Courier New',monospace\"><span style=\"font-weight: bold\"> Trainable params: </span><span style=\"color: #00af00; text-decoration-color: #00af00\">18,049</span> (70.50 KB)\n",
       "</pre>\n"
      ],
      "text/plain": [
       "\u001b[1m Trainable params: \u001b[0m\u001b[38;5;34m18,049\u001b[0m (70.50 KB)\n"
      ]
     },
     "metadata": {},
     "output_type": "display_data"
    },
    {
     "data": {
      "text/html": [
       "<pre style=\"white-space:pre;overflow-x:auto;line-height:normal;font-family:Menlo,'DejaVu Sans Mono',consolas,'Courier New',monospace\"><span style=\"font-weight: bold\"> Non-trainable params: </span><span style=\"color: #00af00; text-decoration-color: #00af00\">0</span> (0.00 B)\n",
       "</pre>\n"
      ],
      "text/plain": [
       "\u001b[1m Non-trainable params: \u001b[0m\u001b[38;5;34m0\u001b[0m (0.00 B)\n"
      ]
     },
     "metadata": {},
     "output_type": "display_data"
    },
    {
     "name": "stdout",
     "output_type": "stream",
     "text": [
      "Epoch 1/50\n",
      "\u001b[1m12269/12270\u001b[0m \u001b[32m━━━━━━━━━━━━━━━━━━━\u001b[0m\u001b[37m━\u001b[0m \u001b[1m0s\u001b[0m 14ms/step - loss: 0.4951 - mean_absolute_error: 0.4077\n",
      "Epoch 1: val_loss improved from inf to 0.48580, saving model to checkpoints/best_gru.h5\n"
     ]
    },
    {
     "name": "stderr",
     "output_type": "stream",
     "text": [
      "WARNING:absl:You are saving your model as an HDF5 file via `model.save()` or `keras.saving.save_model(model)`. This file format is considered legacy. We recommend using instead the native Keras format, e.g. `model.save('my_model.keras')` or `keras.saving.save_model(model, 'my_model.keras')`. \n"
     ]
    },
    {
     "name": "stdout",
     "output_type": "stream",
     "text": [
      "\u001b[1m12270/12270\u001b[0m \u001b[32m━━━━━━━━━━━━━━━━━━━━\u001b[0m\u001b[37m\u001b[0m \u001b[1m192s\u001b[0m 15ms/step - loss: 0.4951 - mean_absolute_error: 0.4077 - val_loss: 0.4858 - val_mean_absolute_error: 0.3993\n",
      "Epoch 2/50\n",
      "\u001b[1m12269/12270\u001b[0m \u001b[32m━━━━━━━━━━━━━━━━━━━\u001b[0m\u001b[37m━\u001b[0m \u001b[1m0s\u001b[0m 13ms/step - loss: 0.4113 - mean_absolute_error: 0.3794\n",
      "Epoch 2: val_loss did not improve from 0.48580\n",
      "\u001b[1m12270/12270\u001b[0m \u001b[32m━━━━━━━━━━━━━━━━━━━━\u001b[0m\u001b[37m\u001b[0m \u001b[1m179s\u001b[0m 15ms/step - loss: 0.4113 - mean_absolute_error: 0.3794 - val_loss: 0.5374 - val_mean_absolute_error: 0.3961\n",
      "Epoch 3/50\n",
      "\u001b[1m12268/12270\u001b[0m \u001b[32m━━━━━━━━━━━━━━━━━━━\u001b[0m\u001b[37m━\u001b[0m \u001b[1m0s\u001b[0m 14ms/step - loss: 0.4014 - mean_absolute_error: 0.3757\n",
      "Epoch 3: val_loss did not improve from 0.48580\n",
      "\u001b[1m12270/12270\u001b[0m \u001b[32m━━━━━━━━━━━━━━━━━━━━\u001b[0m\u001b[37m\u001b[0m \u001b[1m185s\u001b[0m 15ms/step - loss: 0.4014 - mean_absolute_error: 0.3757 - val_loss: 0.4981 - val_mean_absolute_error: 0.3947\n",
      "Epoch 4/50\n",
      "\u001b[1m12267/12270\u001b[0m \u001b[32m━━━━━━━━━━━━━━━━━━━\u001b[0m\u001b[37m━\u001b[0m \u001b[1m0s\u001b[0m 14ms/step - loss: 0.4001 - mean_absolute_error: 0.3750\n",
      "Epoch 4: val_loss improved from 0.48580 to 0.45890, saving model to checkpoints/best_gru.h5\n"
     ]
    },
    {
     "name": "stderr",
     "output_type": "stream",
     "text": [
      "WARNING:absl:You are saving your model as an HDF5 file via `model.save()` or `keras.saving.save_model(model)`. This file format is considered legacy. We recommend using instead the native Keras format, e.g. `model.save('my_model.keras')` or `keras.saving.save_model(model, 'my_model.keras')`. \n"
     ]
    },
    {
     "name": "stdout",
     "output_type": "stream",
     "text": [
      "\u001b[1m12270/12270\u001b[0m \u001b[32m━━━━━━━━━━━━━━━━━━━━\u001b[0m\u001b[37m\u001b[0m \u001b[1m190s\u001b[0m 16ms/step - loss: 0.4001 - mean_absolute_error: 0.3750 - val_loss: 0.4589 - val_mean_absolute_error: 0.3970\n",
      "Epoch 5/50\n",
      "\u001b[1m12269/12270\u001b[0m \u001b[32m━━━━━━━━━━━━━━━━━━━\u001b[0m\u001b[37m━\u001b[0m \u001b[1m0s\u001b[0m 14ms/step - loss: 0.3952 - mean_absolute_error: 0.3739\n",
      "Epoch 5: val_loss did not improve from 0.45890\n",
      "\u001b[1m12270/12270\u001b[0m \u001b[32m━━━━━━━━━━━━━━━━━━━━\u001b[0m\u001b[37m\u001b[0m \u001b[1m185s\u001b[0m 15ms/step - loss: 0.3952 - mean_absolute_error: 0.3739 - val_loss: 0.4847 - val_mean_absolute_error: 0.3953\n",
      "Epoch 6/50\n",
      "\u001b[1m12267/12270\u001b[0m \u001b[32m━━━━━━━━━━━━━━━━━━━\u001b[0m\u001b[37m━\u001b[0m \u001b[1m0s\u001b[0m 13ms/step - loss: 0.3937 - mean_absolute_error: 0.3732\n",
      "Epoch 6: val_loss did not improve from 0.45890\n",
      "\u001b[1m12270/12270\u001b[0m \u001b[32m━━━━━━━━━━━━━━━━━━━━\u001b[0m\u001b[37m\u001b[0m \u001b[1m174s\u001b[0m 14ms/step - loss: 0.3937 - mean_absolute_error: 0.3732 - val_loss: 0.4614 - val_mean_absolute_error: 0.3944\n",
      "Epoch 7/50\n",
      "\u001b[1m12267/12270\u001b[0m \u001b[32m━━━━━━━━━━━━━━━━━━━\u001b[0m\u001b[37m━\u001b[0m \u001b[1m0s\u001b[0m 14ms/step - loss: 0.3911 - mean_absolute_error: 0.3724\n",
      "Epoch 7: val_loss did not improve from 0.45890\n",
      "\u001b[1m12270/12270\u001b[0m \u001b[32m━━━━━━━━━━━━━━━━━━━━\u001b[0m\u001b[37m\u001b[0m \u001b[1m183s\u001b[0m 15ms/step - loss: 0.3911 - mean_absolute_error: 0.3724 - val_loss: 0.4622 - val_mean_absolute_error: 0.3927\n",
      "Epoch 8/50\n",
      "\u001b[1m12269/12270\u001b[0m \u001b[32m━━━━━━━━━━━━━━━━━━━\u001b[0m\u001b[37m━\u001b[0m \u001b[1m0s\u001b[0m 16ms/step - loss: 0.3910 - mean_absolute_error: 0.3728\n",
      "Epoch 8: val_loss did not improve from 0.45890\n",
      "\u001b[1m12270/12270\u001b[0m \u001b[32m━━━━━━━━━━━━━━━━━━━━\u001b[0m\u001b[37m\u001b[0m \u001b[1m208s\u001b[0m 17ms/step - loss: 0.3910 - mean_absolute_error: 0.3728 - val_loss: 0.4600 - val_mean_absolute_error: 0.3908\n",
      "Epoch 9/50\n",
      "\u001b[1m12268/12270\u001b[0m \u001b[32m━━━━━━━━━━━━━━━━━━━\u001b[0m\u001b[37m━\u001b[0m \u001b[1m0s\u001b[0m 15ms/step - loss: 0.3885 - mean_absolute_error: 0.3719\n",
      "Epoch 9: val_loss did not improve from 0.45890\n",
      "\u001b[1m12270/12270\u001b[0m \u001b[32m━━━━━━━━━━━━━━━━━━━━\u001b[0m\u001b[37m\u001b[0m \u001b[1m204s\u001b[0m 17ms/step - loss: 0.3885 - mean_absolute_error: 0.3719 - val_loss: 0.4689 - val_mean_absolute_error: 0.3974\n",
      "Epoch 9: early stopping\n",
      "Restoring model weights from the end of the best epoch: 4.\n"
     ]
    },
    {
     "data": {
      "image/png": "[encoded data removed]",
      "text/plain": [
       "<Figure size 1200x400 with 2 Axes>"
      ]
     },
     "metadata": {},
     "output_type": "display_data"
    }
   ],
   "source": [
    "# 7.1 – Crear modelo GRU con configuración similar\n",
    "model_gru = create_rnn_model(rnn_type=\"GRU\", n_units=64, dropout_rate=0.2, learning_rate=0.001, n_dense=32)\n",
    "model_gru.summary()\n",
    "\n",
    "# 7.2 – Callbacks para GRU\n",
    "checkpoint_gru = \"checkpoints/best_gru.h5\"\n",
    "mc_gru = ModelCheckpoint(filepath=checkpoint_gru, monitor=\"val_loss\", save_best_only=True, verbose=1)\n",
    "es_gru = EarlyStopping(monitor=\"val_loss\", patience=5, restore_best_weights=True, verbose=1)\n",
    "\n",
    "# 7.3 – Entrenar GRU\n",
    "history_gru = model_gru.fit(\n",
    "    X_train, y_train,\n",
    "    epochs=50,\n",
    "    batch_size=256,\n",
    "    validation_data=(X_val, y_val),\n",
    "    callbacks=[es_gru, mc_gru]\n",
    ")\n",
    "\n",
    "# 7.4 – Graficar para GRU\n",
    "plot_history(history_gru, title_suffix=\" (GRU 64, dropout 0.2)\")\n"
   ]
  },
  {
   "cell_type": "code",
   "execution_count": 15,
   "metadata": {},
   "outputs": [
    {
     "name": "stdout",
     "output_type": "stream",
     "text": [
      "\n",
      "\n",
      ">>> Entrenando LSTM | unidades=32 | dropout=0.0 | lr=0.001  <<<\n"
     ]
    },
    {
     "name": "stderr",
     "output_type": "stream",
     "text": [
      "WARNING:absl:You are saving your model as an HDF5 file via `model.save()` or `keras.saving.save_model(model)`. This file format is considered legacy. We recommend using instead the native Keras format, e.g. `model.save('my_model.keras')` or `keras.saving.save_model(model, 'my_model.keras')`. \n",
      "WARNING:absl:You are saving your model as an HDF5 file via `model.save()` or `keras.saving.save_model(model)`. This file format is considered legacy. We recommend using instead the native Keras format, e.g. `model.save('my_model.keras')` or `keras.saving.save_model(model, 'my_model.keras')`. \n",
      "WARNING:absl:You are saving your model as an HDF5 file via `model.save()` or `keras.saving.save_model(model)`. This file format is considered legacy. We recommend using instead the native Keras format, e.g. `model.save('my_model.keras')` or `keras.saving.save_model(model, 'my_model.keras')`. \n",
      "WARNING:absl:You are saving your model as an HDF5 file via `model.save()` or `keras.saving.save_model(model)`. This file format is considered legacy. We recommend using instead the native Keras format, e.g. `model.save('my_model.keras')` or `keras.saving.save_model(model, 'my_model.keras')`. \n",
      "WARNING:absl:You are saving your model as an HDF5 file via `model.save()` or `keras.saving.save_model(model)`. This file format is considered legacy. We recommend using instead the native Keras format, e.g. `model.save('my_model.keras')` or `keras.saving.save_model(model, 'my_model.keras')`. \n",
      "WARNING:absl:You are saving your model as an HDF5 file via `model.save()` or `keras.saving.save_model(model)`. This file format is considered legacy. We recommend using instead the native Keras format, e.g. `model.save('my_model.keras')` or `keras.saving.save_model(model, 'my_model.keras')`. \n",
      "WARNING:absl:You are saving your model as an HDF5 file via `model.save()` or `keras.saving.save_model(model)`. This file format is considered legacy. We recommend using instead the native Keras format, e.g. `model.save('my_model.keras')` or `keras.saving.save_model(model, 'my_model.keras')`. \n",
      "WARNING:absl:You are saving your model as an HDF5 file via `model.save()` or `keras.saving.save_model(model)`. This file format is considered legacy. We recommend using instead the native Keras format, e.g. `model.save('my_model.keras')` or `keras.saving.save_model(model, 'my_model.keras')`. \n",
      "WARNING:absl:You are saving your model as an HDF5 file via `model.save()` or `keras.saving.save_model(model)`. This file format is considered legacy. We recommend using instead the native Keras format, e.g. `model.save('my_model.keras')` or `keras.saving.save_model(model, 'my_model.keras')`. \n"
     ]
    },
    {
     "name": "stdout",
     "output_type": "stream",
     "text": [
      "-> Mejor val_loss (MSE): 0.4606  |  Mejor val_mae: 0.3895\n",
      "\n",
      "\n",
      ">>> Entrenando LSTM | unidades=64 | dropout=0.2 | lr=0.001  <<<\n"
     ]
    },
    {
     "name": "stderr",
     "output_type": "stream",
     "text": [
      "WARNING:absl:You are saving your model as an HDF5 file via `model.save()` or `keras.saving.save_model(model)`. This file format is considered legacy. We recommend using instead the native Keras format, e.g. `model.save('my_model.keras')` or `keras.saving.save_model(model, 'my_model.keras')`. \n",
      "WARNING:absl:You are saving your model as an HDF5 file via `model.save()` or `keras.saving.save_model(model)`. This file format is considered legacy. We recommend using instead the native Keras format, e.g. `model.save('my_model.keras')` or `keras.saving.save_model(model, 'my_model.keras')`. \n",
      "WARNING:absl:You are saving your model as an HDF5 file via `model.save()` or `keras.saving.save_model(model)`. This file format is considered legacy. We recommend using instead the native Keras format, e.g. `model.save('my_model.keras')` or `keras.saving.save_model(model, 'my_model.keras')`. \n",
      "WARNING:absl:You are saving your model as an HDF5 file via `model.save()` or `keras.saving.save_model(model)`. This file format is considered legacy. We recommend using instead the native Keras format, e.g. `model.save('my_model.keras')` or `keras.saving.save_model(model, 'my_model.keras')`. \n"
     ]
    },
    {
     "name": "stdout",
     "output_type": "stream",
     "text": [
      "-> Mejor val_loss (MSE): 0.4642  |  Mejor val_mae: 0.3901\n",
      "\n",
      "\n",
      ">>> Entrenando GRU | unidades=64 | dropout=0.2 | lr=0.001  <<<\n"
     ]
    },
    {
     "name": "stderr",
     "output_type": "stream",
     "text": [
      "WARNING:absl:You are saving your model as an HDF5 file via `model.save()` or `keras.saving.save_model(model)`. This file format is considered legacy. We recommend using instead the native Keras format, e.g. `model.save('my_model.keras')` or `keras.saving.save_model(model, 'my_model.keras')`. \n",
      "WARNING:absl:You are saving your model as an HDF5 file via `model.save()` or `keras.saving.save_model(model)`. This file format is considered legacy. We recommend using instead the native Keras format, e.g. `model.save('my_model.keras')` or `keras.saving.save_model(model, 'my_model.keras')`. \n",
      "WARNING:absl:You are saving your model as an HDF5 file via `model.save()` or `keras.saving.save_model(model)`. This file format is considered legacy. We recommend using instead the native Keras format, e.g. `model.save('my_model.keras')` or `keras.saving.save_model(model, 'my_model.keras')`. \n",
      "WARNING:absl:You are saving your model as an HDF5 file via `model.save()` or `keras.saving.save_model(model)`. This file format is considered legacy. We recommend using instead the native Keras format, e.g. `model.save('my_model.keras')` or `keras.saving.save_model(model, 'my_model.keras')`. \n"
     ]
    },
    {
     "name": "stdout",
     "output_type": "stream",
     "text": [
      "-> Mejor val_loss (MSE): 0.4571  |  Mejor val_mae: 0.3900\n",
      "\n",
      "\n",
      ">>> Entrenando GRU | unidades=128 | dropout=0.3 | lr=0.0005  <<<\n"
     ]
    },
    {
     "name": "stderr",
     "output_type": "stream",
     "text": [
      "WARNING:absl:You are saving your model as an HDF5 file via `model.save()` or `keras.saving.save_model(model)`. This file format is considered legacy. We recommend using instead the native Keras format, e.g. `model.save('my_model.keras')` or `keras.saving.save_model(model, 'my_model.keras')`. \n",
      "WARNING:absl:You are saving your model as an HDF5 file via `model.save()` or `keras.saving.save_model(model)`. This file format is considered legacy. We recommend using instead the native Keras format, e.g. `model.save('my_model.keras')` or `keras.saving.save_model(model, 'my_model.keras')`. \n",
      "WARNING:absl:You are saving your model as an HDF5 file via `model.save()` or `keras.saving.save_model(model)`. This file format is considered legacy. We recommend using instead the native Keras format, e.g. `model.save('my_model.keras')` or `keras.saving.save_model(model, 'my_model.keras')`. \n",
      "WARNING:absl:You are saving your model as an HDF5 file via `model.save()` or `keras.saving.save_model(model)`. This file format is considered legacy. We recommend using instead the native Keras format, e.g. `model.save('my_model.keras')` or `keras.saving.save_model(model, 'my_model.keras')`. \n"
     ]
    },
    {
     "name": "stdout",
     "output_type": "stream",
     "text": [
      "-> Mejor val_loss (MSE): 0.4490  |  Mejor val_mae: 0.3904\n",
      "\n",
      "Comparativa de configuraciones:\n"
     ]
    },
    {
     "data": {
      "text/html": [
       "<div>\n",
       "<style scoped>\n",
       "    .dataframe tbody tr th:only-of-type {\n",
       "        vertical-align: middle;\n",
       "    }\n",
       "\n",
       "    .dataframe tbody tr th {\n",
       "        vertical-align: top;\n",
       "    }\n",
       "\n",
       "    .dataframe thead th {\n",
       "        text-align: right;\n",
       "    }\n",
       "</style>\n",
       "<table border=\"1\" class=\"dataframe\">\n",
       "  <thead>\n",
       "    <tr style=\"text-align: right;\">\n",
       "      <th></th>\n",
       "      <th>config</th>\n",
       "      <th>val_mse</th>\n",
       "      <th>val_mae</th>\n",
       "    </tr>\n",
       "  </thead>\n",
       "  <tbody>\n",
       "    <tr>\n",
       "      <th>0</th>\n",
       "      <td>{'rnn_type': 'LSTM', 'n_units': 32, 'dropout':...</td>\n",
       "      <td>0.460636</td>\n",
       "      <td>0.389466</td>\n",
       "    </tr>\n",
       "    <tr>\n",
       "      <th>1</th>\n",
       "      <td>{'rnn_type': 'LSTM', 'n_units': 64, 'dropout':...</td>\n",
       "      <td>0.464182</td>\n",
       "      <td>0.390138</td>\n",
       "    </tr>\n",
       "    <tr>\n",
       "      <th>2</th>\n",
       "      <td>{'rnn_type': 'GRU', 'n_units': 64, 'dropout': ...</td>\n",
       "      <td>0.457141</td>\n",
       "      <td>0.390013</td>\n",
       "    </tr>\n",
       "    <tr>\n",
       "      <th>3</th>\n",
       "      <td>{'rnn_type': 'GRU', 'n_units': 128, 'dropout':...</td>\n",
       "      <td>0.448976</td>\n",
       "      <td>0.390386</td>\n",
       "    </tr>\n",
       "  </tbody>\n",
       "</table>\n",
       "</div>"
      ],
      "text/plain": [
       "                                              config   val_mse   val_mae\n",
       "0  {'rnn_type': 'LSTM', 'n_units': 32, 'dropout':...  0.460636  0.389466\n",
       "1  {'rnn_type': 'LSTM', 'n_units': 64, 'dropout':...  0.464182  0.390138\n",
       "2  {'rnn_type': 'GRU', 'n_units': 64, 'dropout': ...  0.457141  0.390013\n",
       "3  {'rnn_type': 'GRU', 'n_units': 128, 'dropout':...  0.448976  0.390386"
      ]
     },
     "metadata": {},
     "output_type": "display_data"
    }
   ],
   "source": [
    "# 8.1 – Definir espacios simples a probar\n",
    "config_list = [\n",
    "    {\"rnn_type\":\"LSTM\", \"n_units\":32, \"dropout\":0.0, \"lr\":0.001},\n",
    "    {\"rnn_type\":\"LSTM\", \"n_units\":64, \"dropout\":0.2, \"lr\":0.001},\n",
    "    {\"rnn_type\":\"GRU\",  \"n_units\":64, \"dropout\":0.2, \"lr\":0.001},\n",
    "    {\"rnn_type\":\"GRU\",  \"n_units\":128,\"dropout\":0.3, \"lr\":0.0005},\n",
    "]\n",
    "\n",
    "results = []\n",
    "\n",
    "for cfg in config_list:\n",
    "    print(f\"\\n\\n>>> Entrenando {cfg['rnn_type']} | unidades={cfg['n_units']} | dropout={cfg['dropout']} | lr={cfg['lr']}  <<<\")\n",
    "    model_tmp = create_rnn_model(\n",
    "        rnn_type=cfg[\"rnn_type\"],\n",
    "        n_units=cfg[\"n_units\"],\n",
    "        dropout_rate=cfg[\"dropout\"],\n",
    "        learning_rate=cfg[\"lr\"],\n",
    "        n_dense=32\n",
    "    )\n",
    "    cb_tmp = [\n",
    "        EarlyStopping(monitor=\"val_loss\", patience=3, restore_best_weights=True, verbose=0),\n",
    "        ModelCheckpoint(filepath=f\"checkpoints/tmp_{cfg['rnn_type']}_{cfg['n_units']}.h5\", monitor=\"val_loss\", save_best_only=True, verbose=0)\n",
    "    ]\n",
    "    hist_tmp = model_tmp.fit(\n",
    "        X_train, y_train,\n",
    "        epochs=15,\n",
    "        batch_size=512,\n",
    "        validation_data=(X_val, y_val),\n",
    "        callbacks=cb_tmp,\n",
    "        verbose=0\n",
    "    )\n",
    "    val_mse = min(hist_tmp.history[\"val_loss\"])\n",
    "    val_mae = min(hist_tmp.history[\"val_mean_absolute_error\"])\n",
    "    print(f\"-> Mejor val_loss (MSE): {val_mse:.4f}  |  Mejor val_mae: {val_mae:.4f}\")\n",
    "    results.append({\n",
    "        \"config\": cfg,\n",
    "        \"val_mse\": val_mse,\n",
    "        \"val_mae\": val_mae\n",
    "    })\n",
    "\n",
    "# 8.2 – Mostrar tabla comparativa\n",
    "df_results = pd.DataFrame(results)\n",
    "print(\"\\nComparativa de configuraciones:\")\n",
    "display(df_results)\n"
   ]
  },
  {
   "cell_type": "code",
   "execution_count": 19,
   "metadata": {},
   "outputs": [
    {
     "name": "stderr",
     "output_type": "stream",
     "text": [
      "WARNING:absl:You are saving your model as an HDF5 file via `model.save()` or `keras.saving.save_model(model)`. This file format is considered legacy. We recommend using instead the native Keras format, e.g. `model.save('my_model.keras')` or `keras.saving.save_model(model, 'my_model.keras')`. \n"
     ]
    },
    {
     "name": "stdout",
     "output_type": "stream",
     "text": [
      "Modelo recompilado y guardado como 'rnn_demand_model.h5'\n"
     ]
    }
   ],
   "source": [
    "import tensorflow as tf\n",
    "from tensorflow.keras.models import load_model\n",
    "from tensorflow.keras.optimizers import Adam\n",
    "\n",
    "# 1) Cargar el modelo sin compilar (compile=False) para evitar problemas de serialización de la métrica MeanSquaredError\n",
    "model_final = load_model(\"checkpoints/best_lstm.h5\", compile=False)\n",
    "\n",
    "# 2) Recompilar usando strings (o instancias correctas) para pérdida y métricas\n",
    "model_final.compile(\n",
    "    loss=\"mse\",                                \n",
    "    optimizer=Adam(learning_rate=0.001),        \n",
    "    metrics=[\"mae\"]                             \n",
    ")\n",
    "\n",
    "# 3) Ahora sí podemos guardar sin errores\n",
    "model_final.save(\"rnn_demand_model.h5\")\n",
    "print(\"Modelo recompilado y guardado como 'rnn_demand_model.h5'\")\n"
   ]
  },
  {
   "cell_type": "code",
   "execution_count": 20,
   "metadata": {},
   "outputs": [
    {
     "name": "stdout",
     "output_type": "stream",
     "text": [
      "Resultados en test -> Loss (MSE): 0.5608 | MAE: 0.4197\n"
     ]
    }
   ],
   "source": [
    "from tensorflow.keras.models import load_model\n",
    "from tensorflow.keras.optimizers import Adam\n",
    "\n",
    "# Carga sin compilar y recompila igual que en entrenamiento\n",
    "model_best = load_model(\"checkpoints/tmp_LSTM_32.h5\", compile=False)\n",
    "model_best.compile(loss=\"mse\", optimizer=Adam(learning_rate=0.001), metrics=[\"mae\"])\n",
    "\n",
    "test_eval = model_best.evaluate(X_test, y_test, batch_size=256, verbose=0)\n",
    "print(f\"Resultados en test -> Loss (MSE): {test_eval[0]:.4f} | MAE: {test_eval[1]:.4f}\")"
   ]
  },
  {
   "cell_type": "markdown",
   "metadata": {},
   "source": [
    "### Análisis de Resultados\n",
    "\n",
    "- **Arquitectura seleccionada:**  \n",
    "  LSTM con 32 unidades, dropout = 0.0, capa densa intermedia de 32 unidades, tasa de aprendizaje = 0.001.\n",
    "\n",
    "- **Mejor métrica en validación:**  \n",
    "  - MSE (val_loss) mínimo: 0.460636  \n",
    "  - MAE (val_mae) mínimo: 0.389466  \n",
    "\n",
    "  *(Estos valores corresponden a la configuración `{'rnn_type': 'LSTM', 'n_units': 32, 'dropout': 0.0, 'lr': 0.001}`, que obtuvo el val_mae más bajo = 0.389466.)*\n",
    "\n",
    "- **Rendimiento en test:**  \n",
    "\n",
    "    ```\n",
    "    Loss (MSE) en test: 0.5608\n",
    "    MAE en test: 0.4197\n",
    "    ```\n",
    "\n",
    "Se observa que el modelo LSTM(32, dropout=0.0, lr=0.001) logra el val_mae más bajo (0.389466), con un val_mse de 0.460636. Por tanto, elegimos esta arquitectura para guardar como `rnn_demand_model.h5` y usarla en la Fase 3.\n"
   ]
  }
 ],
 "metadata": {
  "kernelspec": {
   "display_name": ".venv2",
   "language": "python",
   "name": "python3"
  },
  "language_info": {
   "codemirror_mode": {
    "name": "ipython",
    "version": 3
   },
   "file_extension": ".py",
   "mimetype": "text/x-python",
   "name": "python",
   "nbconvert_exporter": "python",
   "pygments_lexer": "ipython3",
   "version": "3.11.1"
  }
 },
 "nbformat": 4,
 "nbformat_minor": 2
}
